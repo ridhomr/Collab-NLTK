{
  "nbformat": 4,
  "nbformat_minor": 0,
  "metadata": {
    "colab": {
      "name": "182102031_RidhoMarhaban.ipynb",
      "provenance": [],
      "collapsed_sections": []
    },
    "kernelspec": {
      "name": "python3",
      "display_name": "Python 3"
    },
    "language_info": {
      "name": "python"
    }
  },
  "cells": [
    {
      "cell_type": "code",
      "metadata": {
        "colab": {
          "base_uri": "https://localhost:8080/"
        },
        "id": "ByUABzvDmeSp",
        "outputId": "6a7fef0f-6d0e-4def-ddbb-3b0955da5969"
      },
      "source": [
        "pip install nltk"
      ],
      "execution_count": 1,
      "outputs": [
        {
          "output_type": "stream",
          "name": "stdout",
          "text": [
            "Requirement already satisfied: nltk in /usr/local/lib/python3.7/dist-packages (3.2.5)\n",
            "Requirement already satisfied: six in /usr/local/lib/python3.7/dist-packages (from nltk) (1.15.0)\n"
          ]
        }
      ]
    },
    {
      "cell_type": "code",
      "metadata": {
        "colab": {
          "base_uri": "https://localhost:8080/"
        },
        "id": "1iA7BkghnWoO",
        "outputId": "b5fd8b0f-2286-4db4-855e-802e3d1c0b3d"
      },
      "source": [
        "import nltk\n",
        "nltk.download()"
      ],
      "execution_count": 3,
      "outputs": [
        {
          "name": "stdout",
          "output_type": "stream",
          "text": [
            "NLTK Downloader\n",
            "---------------------------------------------------------------------------\n",
            "    d) Download   l) List    u) Update   c) Config   h) Help   q) Quit\n",
            "---------------------------------------------------------------------------\n",
            "Downloader> Download\n",
            "Command 'Download' unrecognized\n",
            "\n",
            "---------------------------------------------------------------------------\n",
            "    d) Download   l) List    u) Update   c) Config   h) Help   q) Quit\n",
            "---------------------------------------------------------------------------\n",
            "Downloader> d\n",
            "\n",
            "Download which package (l=list; x=cancel)?\n",
            "  Identifier> \n",
            "\n",
            "---------------------------------------------------------------------------\n",
            "    d) Download   l) List    u) Update   c) Config   h) Help   q) Quit\n",
            "---------------------------------------------------------------------------\n",
            "Downloader> d\n",
            "\n",
            "Download which package (l=list; x=cancel)?\n",
            "  Identifier> l\n",
            "Packages:\n",
            "  [ ] abc................. Australian Broadcasting Commission 2006\n",
            "  [ ] alpino.............. Alpino Dutch Treebank\n",
            "  [ ] averaged_perceptron_tagger Averaged Perceptron Tagger\n",
            "  [ ] averaged_perceptron_tagger_ru Averaged Perceptron Tagger (Russian)\n",
            "  [ ] basque_grammars..... Grammars for Basque\n",
            "  [ ] biocreative_ppi..... BioCreAtIvE (Critical Assessment of Information\n",
            "                           Extraction Systems in Biology)\n",
            "  [ ] bllip_wsj_no_aux.... BLLIP Parser: WSJ Model\n",
            "  [ ] book_grammars....... Grammars from NLTK Book\n",
            "  [ ] brown............... Brown Corpus\n",
            "  [ ] brown_tei........... Brown Corpus (TEI XML Version)\n",
            "  [ ] cess_cat............ CESS-CAT Treebank\n",
            "  [ ] cess_esp............ CESS-ESP Treebank\n",
            "  [ ] chat80.............. Chat-80 Data Files\n",
            "  [ ] city_database....... City Database\n",
            "  [ ] cmudict............. The Carnegie Mellon Pronouncing Dictionary (0.6)\n",
            "  [ ] comparative_sentences Comparative Sentence Dataset\n",
            "  [ ] comtrans............ ComTrans Corpus Sample\n",
            "  [ ] conll2000........... CONLL 2000 Chunking Corpus\n",
            "  [ ] conll2002........... CONLL 2002 Named Entity Recognition Corpus\n",
            "Hit Enter to continue: \n",
            "  [ ] conll2007........... Dependency Treebanks from CoNLL 2007 (Catalan\n",
            "                           and Basque Subset)\n",
            "  [ ] crubadan............ Crubadan Corpus\n",
            "  [ ] dependency_treebank. Dependency Parsed Treebank\n",
            "  [ ] dolch............... Dolch Word List\n",
            "  [ ] europarl_raw........ Sample European Parliament Proceedings Parallel\n",
            "                           Corpus\n",
            "  [ ] floresta............ Portuguese Treebank\n",
            "  [ ] framenet_v15........ FrameNet 1.5\n",
            "  [ ] framenet_v17........ FrameNet 1.7\n",
            "  [ ] gazetteers.......... Gazeteer Lists\n",
            "  [ ] genesis............. Genesis Corpus\n",
            "  [ ] gutenberg........... Project Gutenberg Selections\n",
            "  [ ] ieer................ NIST IE-ER DATA SAMPLE\n",
            "  [ ] inaugural........... C-Span Inaugural Address Corpus\n",
            "  [ ] indian.............. Indian Language POS-Tagged Corpus\n",
            "  [ ] jeita............... JEITA Public Morphologically Tagged Corpus (in\n",
            "                           ChaSen format)\n",
            "  [ ] kimmo............... PC-KIMMO Data Files\n",
            "  [ ] knbc................ KNB Corpus (Annotated blog corpus)\n",
            "  [ ] large_grammars...... Large context-free and feature-based grammars\n",
            "                           for parser comparison\n",
            "Hit Enter to continue: \n",
            "  [ ] lin_thesaurus....... Lin's Dependency Thesaurus\n",
            "  [ ] mac_morpho.......... MAC-MORPHO: Brazilian Portuguese news text with\n",
            "                           part-of-speech tags\n",
            "  [ ] machado............. Machado de Assis -- Obra Completa\n",
            "  [ ] masc_tagged......... MASC Tagged Corpus\n",
            "  [ ] maxent_ne_chunker... ACE Named Entity Chunker (Maximum entropy)\n",
            "  [ ] maxent_treebank_pos_tagger Treebank Part of Speech Tagger (Maximum entropy)\n",
            "  [ ] moses_sample........ Moses Sample Models\n",
            "  [ ] movie_reviews....... Sentiment Polarity Dataset Version 2.0\n",
            "  [ ] mte_teip5........... MULTEXT-East 1984 annotated corpus 4.0\n",
            "  [ ] mwa_ppdb............ The monolingual word aligner (Sultan et al.\n",
            "                           2015) subset of the Paraphrase Database.\n",
            "  [ ] names............... Names Corpus, Version 1.3 (1994-03-29)\n",
            "  [ ] nombank.1.0......... NomBank Corpus 1.0\n",
            "  [ ] nonbreaking_prefixes Non-Breaking Prefixes (Moses Decoder)\n",
            "  [ ] nps_chat............ NPS Chat\n",
            "  [ ] omw................. Open Multilingual Wordnet\n",
            "  [ ] opinion_lexicon..... Opinion Lexicon\n",
            "  [ ] panlex_swadesh...... PanLex Swadesh Corpora\n",
            "  [ ] paradigms........... Paradigm Corpus\n",
            "  [ ] pe08................ Cross-Framework and Cross-Domain Parser\n",
            "                           Evaluation Shared Task\n",
            "Hit Enter to continue: \n",
            "  [ ] perluniprops........ perluniprops: Index of Unicode Version 7.0.0\n",
            "                           character properties in Perl\n",
            "  [ ] pil................. The Patient Information Leaflet (PIL) Corpus\n",
            "  [ ] pl196x.............. Polish language of the XX century sixties\n",
            "  [ ] porter_test......... Porter Stemmer Test Files\n",
            "  [ ] ppattach............ Prepositional Phrase Attachment Corpus\n",
            "  [ ] problem_reports..... Problem Report Corpus\n",
            "  [ ] product_reviews_1... Product Reviews (5 Products)\n",
            "  [ ] product_reviews_2... Product Reviews (9 Products)\n",
            "  [ ] propbank............ Proposition Bank Corpus 1.0\n",
            "  [ ] pros_cons........... Pros and Cons\n",
            "  [ ] ptb................. Penn Treebank\n",
            "  [ ] punkt............... Punkt Tokenizer Models\n",
            "  [ ] qc.................. Experimental Data for Question Classification\n",
            "  [ ] reuters............. The Reuters-21578 benchmark corpus, ApteMod\n",
            "                           version\n",
            "  [ ] rslp................ RSLP Stemmer (Removedor de Sufixos da Lingua\n",
            "                           Portuguesa)\n",
            "  [ ] rte................. PASCAL RTE Challenges 1, 2, and 3\n",
            "  [ ] sample_grammars..... Sample Grammars\n",
            "  [ ] semcor.............. SemCor 3.0\n",
            "Hit Enter to continue: \n",
            "  [ ] senseval............ SENSEVAL 2 Corpus: Sense Tagged Text\n",
            "  [ ] sentence_polarity... Sentence Polarity Dataset v1.0\n",
            "  [ ] sentiwordnet........ SentiWordNet\n",
            "  [ ] shakespeare......... Shakespeare XML Corpus Sample\n",
            "  [ ] sinica_treebank..... Sinica Treebank Corpus Sample\n",
            "  [ ] smultron............ SMULTRON Corpus Sample\n",
            "  [ ] snowball_data....... Snowball Data\n",
            "  [ ] spanish_grammars.... Grammars for Spanish\n",
            "  [ ] state_union......... C-Span State of the Union Address Corpus\n",
            "  [ ] stopwords........... Stopwords Corpus\n",
            "  [ ] subjectivity........ Subjectivity Dataset v1.0\n",
            "  [ ] swadesh............. Swadesh Wordlists\n",
            "  [ ] switchboard......... Switchboard Corpus Sample\n",
            "  [ ] tagsets............. Help on Tagsets\n",
            "  [ ] timit............... TIMIT Corpus Sample\n",
            "  [ ] toolbox............. Toolbox Sample Files\n",
            "  [ ] treebank............ Penn Treebank Sample\n",
            "  [ ] twitter_samples..... Twitter Samples\n",
            "  [ ] udhr2............... Universal Declaration of Human Rights Corpus\n",
            "                           (Unicode Version)\n",
            "  [ ] udhr................ Universal Declaration of Human Rights Corpus\n",
            "Hit Enter to continue: \n",
            "  [ ] unicode_samples..... Unicode Samples\n",
            "  [ ] universal_tagset.... Mappings to the Universal Part-of-Speech Tagset\n",
            "  [ ] universal_treebanks_v20 Universal Treebanks Version 2.0\n",
            "  [ ] vader_lexicon....... VADER Sentiment Lexicon\n",
            "  [ ] verbnet3............ VerbNet Lexicon, Version 3.3\n",
            "  [ ] verbnet............. VerbNet Lexicon, Version 2.1\n",
            "  [ ] webtext............. Web Text Corpus\n",
            "  [ ] wmt15_eval.......... Evaluation data from WMT15\n",
            "  [ ] word2vec_sample..... Word2Vec Sample\n",
            "  [ ] wordnet31........... Wordnet 3.1\n",
            "  [ ] wordnet............. WordNet\n",
            "  [ ] wordnet_ic.......... WordNet-InfoContent\n",
            "  [ ] words............... Word Lists\n",
            "  [ ] ycoe................ York-Toronto-Helsinki Parsed Corpus of Old\n",
            "                           English Prose\n",
            "\n",
            "Collections:\n",
            "  [ ] all-corpora......... All the corpora\n",
            "  [ ] all-nltk............ All packages available on nltk_data gh-pages\n",
            "                           branch\n",
            "  [ ] all................. All packages\n",
            "  [ ] book................ Everything used in the NLTK Book\n",
            "Hit Enter to continue: \n",
            "  [ ] popular............. Popular packages\n",
            "  [ ] tests............... Packages for running tests\n",
            "  [ ] third-party......... Third-party data packages\n",
            "\n",
            "([*] marks installed packages)\n",
            "\n",
            "Download which package (l=list; x=cancel)?\n",
            "  Identifier> x\n",
            "\n",
            "---------------------------------------------------------------------------\n",
            "    d) Download   l) List    u) Update   c) Config   h) Help   q) Quit\n",
            "---------------------------------------------------------------------------\n",
            "Downloader> q\n"
          ]
        },
        {
          "output_type": "execute_result",
          "data": {
            "text/plain": [
              "True"
            ]
          },
          "metadata": {},
          "execution_count": 3
        }
      ]
    },
    {
      "cell_type": "markdown",
      "metadata": {
        "id": "qxZJQiGWq_GW"
      },
      "source": [
        "# **NLTK Downloader to obtain the resource**"
      ]
    },
    {
      "cell_type": "code",
      "metadata": {
        "colab": {
          "base_uri": "https://localhost:8080/"
        },
        "id": "ZTUMOns8qyBm",
        "outputId": "91a75949-9924-4bfe-ab93-6358b1d3f5d7"
      },
      "source": [
        "import nltk\n",
        "nltk.download('punkt')"
      ],
      "execution_count": 11,
      "outputs": [
        {
          "output_type": "stream",
          "name": "stdout",
          "text": [
            "[nltk_data] Downloading package punkt to /root/nltk_data...\n",
            "[nltk_data]   Unzipping tokenizers/punkt.zip.\n"
          ]
        },
        {
          "output_type": "execute_result",
          "data": {
            "text/plain": [
              "True"
            ]
          },
          "metadata": {},
          "execution_count": 11
        }
      ]
    },
    {
      "cell_type": "code",
      "metadata": {
        "colab": {
          "base_uri": "https://localhost:8080/"
        },
        "id": "UKxEhOTmnxim",
        "outputId": "3c140835-6fdb-4ad1-d05a-d34b6738bde4"
      },
      "source": [
        "pip install Sastrawi"
      ],
      "execution_count": 4,
      "outputs": [
        {
          "output_type": "stream",
          "name": "stdout",
          "text": [
            "Collecting Sastrawi\n",
            "  Downloading Sastrawi-1.0.1-py2.py3-none-any.whl (209 kB)\n",
            "\u001b[?25l\r\u001b[K     |█▋                              | 10 kB 24.3 MB/s eta 0:00:01\r\u001b[K     |███▏                            | 20 kB 27.2 MB/s eta 0:00:01\r\u001b[K     |████▊                           | 30 kB 31.7 MB/s eta 0:00:01\r\u001b[K     |██████▎                         | 40 kB 35.0 MB/s eta 0:00:01\r\u001b[K     |███████▉                        | 51 kB 26.6 MB/s eta 0:00:01\r\u001b[K     |█████████▍                      | 61 kB 29.0 MB/s eta 0:00:01\r\u001b[K     |███████████                     | 71 kB 19.6 MB/s eta 0:00:01\r\u001b[K     |████████████▌                   | 81 kB 19.6 MB/s eta 0:00:01\r\u001b[K     |██████████████                  | 92 kB 21.1 MB/s eta 0:00:01\r\u001b[K     |███████████████▋                | 102 kB 22.8 MB/s eta 0:00:01\r\u001b[K     |█████████████████▏              | 112 kB 22.8 MB/s eta 0:00:01\r\u001b[K     |██████████████████▊             | 122 kB 22.8 MB/s eta 0:00:01\r\u001b[K     |████████████████████▎           | 133 kB 22.8 MB/s eta 0:00:01\r\u001b[K     |█████████████████████▉          | 143 kB 22.8 MB/s eta 0:00:01\r\u001b[K     |███████████████████████▍        | 153 kB 22.8 MB/s eta 0:00:01\r\u001b[K     |█████████████████████████       | 163 kB 22.8 MB/s eta 0:00:01\r\u001b[K     |██████████████████████████▋     | 174 kB 22.8 MB/s eta 0:00:01\r\u001b[K     |████████████████████████████▏   | 184 kB 22.8 MB/s eta 0:00:01\r\u001b[K     |█████████████████████████████▊  | 194 kB 22.8 MB/s eta 0:00:01\r\u001b[K     |███████████████████████████████▎| 204 kB 22.8 MB/s eta 0:00:01\r\u001b[K     |████████████████████████████████| 209 kB 22.8 MB/s \n",
            "\u001b[?25hInstalling collected packages: Sastrawi\n",
            "Successfully installed Sastrawi-1.0.1\n"
          ]
        }
      ]
    },
    {
      "cell_type": "markdown",
      "metadata": {
        "id": "ML_gastopAwy"
      },
      "source": [
        "# Mengubah text menjadi lowercase"
      ]
    },
    {
      "cell_type": "code",
      "metadata": {
        "colab": {
          "base_uri": "https://localhost:8080/"
        },
        "id": "9fT8zaskn5WE",
        "outputId": "07bfa4bf-85af-45ec-d889-68aaece7311e"
      },
      "source": [
        "input_str = \"The 5 biggest contries by population in 2007 are China, India, United States, Indonesia, and Brazil.\"\n",
        "input_str = input_str.lower()\n",
        "print(input_str)"
      ],
      "execution_count": 5,
      "outputs": [
        {
          "output_type": "stream",
          "name": "stdout",
          "text": [
            "the 5 biggest contries by population in 2007 are china, india, united states, indonesia, and brazil.\n"
          ]
        }
      ]
    },
    {
      "cell_type": "markdown",
      "metadata": {
        "id": "RoVX9rOlpF9y"
      },
      "source": [
        "# Menghapus angka"
      ]
    },
    {
      "cell_type": "code",
      "metadata": {
        "colab": {
          "base_uri": "https://localhost:8080/"
        },
        "id": "yRCq6XY6ofeW",
        "outputId": "5145cbd0-5acc-4539-e6e3-e5f24ea87eaa"
      },
      "source": [
        "import re\n",
        "input_str = \"Box A contains 3 red and 5 white balls, while Box B contains 4 red and 2 blue balls.\"\n",
        "result = re.sub(r'\\d+', '', input_str)\n",
        "print(result)"
      ],
      "execution_count": 6,
      "outputs": [
        {
          "output_type": "stream",
          "name": "stdout",
          "text": [
            "Box A contains  red and  white balls, while Box B contains  red and  blue balls.\n"
          ]
        }
      ]
    },
    {
      "cell_type": "markdown",
      "metadata": {
        "id": "Wb9uYZkPpJth"
      },
      "source": [
        "# Menghapus tanda baca"
      ]
    },
    {
      "cell_type": "code",
      "metadata": {
        "colab": {
          "base_uri": "https://localhost:8080/"
        },
        "id": "ChLmLPajpMpN",
        "outputId": "b90cbd0f-2ed5-4569-afc2-f8e4f69f2dd0"
      },
      "source": [
        "import string\n",
        "input_str = \"This &is [an] example? (of) string. with.? punctuation!!!!\"\n",
        "result = input_str.translate(str.maketrans('', '', string.punctuation))\n",
        "print(result)"
      ],
      "execution_count": 7,
      "outputs": [
        {
          "output_type": "stream",
          "name": "stdout",
          "text": [
            "This is an example of string with punctuation\n"
          ]
        }
      ]
    },
    {
      "cell_type": "markdown",
      "metadata": {
        "id": "s4PMMTMMpl0q"
      },
      "source": [
        "# Menghapus whitepace(karakter kosong)"
      ]
    },
    {
      "cell_type": "code",
      "metadata": {
        "colab": {
          "base_uri": "https://localhost:8080/",
          "height": 34
        },
        "id": "7fmZaEk5pqP7",
        "outputId": "91a5c313-dd09-48c0-a5c8-647e3f44f69c"
      },
      "source": [
        "input_str = \" \\t a string example\\t  \"\n",
        "input_str = input_str.strip()\n",
        "input_str"
      ],
      "execution_count": 8,
      "outputs": [
        {
          "output_type": "execute_result",
          "data": {
            "application/vnd.google.colaboratory.intrinsic+json": {
              "type": "string"
            },
            "text/plain": [
              "'a string example'"
            ]
          },
          "metadata": {},
          "execution_count": 8
        }
      ]
    },
    {
      "cell_type": "markdown",
      "metadata": {
        "id": "y7yV7iXMp50o"
      },
      "source": [
        "# **Tokenizing**"
      ]
    },
    {
      "cell_type": "code",
      "metadata": {
        "colab": {
          "base_uri": "https://localhost:8080/"
        },
        "id": "TrguH7JBp8U4",
        "outputId": "3fd159e8-2a2a-4ebd-f39c-49863c4ba007"
      },
      "source": [
        "kalimat = \"rumah idaman adalah rumah yang bersih\"\n",
        "pisah = kalimat.split()\n",
        "print(pisah)"
      ],
      "execution_count": 9,
      "outputs": [
        {
          "output_type": "stream",
          "name": "stdout",
          "text": [
            "['rumah', 'idaman', 'adalah', 'rumah', 'yang', 'bersih']\n"
          ]
        }
      ]
    },
    {
      "cell_type": "markdown",
      "metadata": {
        "id": "7RR9Aws-qHTh"
      },
      "source": [
        "# **a. tokenizing kata**"
      ]
    },
    {
      "cell_type": "code",
      "metadata": {
        "colab": {
          "base_uri": "https://localhost:8080/"
        },
        "id": "explkHS-qLCq",
        "outputId": "0237b376-3982-4605-8128-fc2b7151d49c"
      },
      "source": [
        "from nltk.tokenize import word_tokenize\n",
        "\n",
        "kalimat = \"Andi kerap melakukan transaksi rutin secara online.\"\n",
        "tokens = word_tokenize(kalimat)\n",
        "print(tokens)"
      ],
      "execution_count": 12,
      "outputs": [
        {
          "output_type": "stream",
          "name": "stdout",
          "text": [
            "['Andi', 'kerap', 'melakukan', 'transaksi', 'rutin', 'secara', 'online', '.']\n"
          ]
        }
      ]
    },
    {
      "cell_type": "code",
      "metadata": {
        "colab": {
          "base_uri": "https://localhost:8080/"
        },
        "id": "3TgrWk3SrGhW",
        "outputId": "db944051-6837-49c6-9c72-62aa9ce86cd9"
      },
      "source": [
        "# add case folding\n",
        "from nltk.tokenize import word_tokenize\n",
        "\n",
        "kalimat = \"Andi kerap melakukan transaksi rutin secara online.\"\n",
        "kalimat = kalimat.translate(str.maketrans('', '', string.punctuation)).lower()\n",
        "\n",
        "tokens = word_tokenize(kalimat)\n",
        "print(tokens)"
      ],
      "execution_count": 13,
      "outputs": [
        {
          "output_type": "stream",
          "name": "stdout",
          "text": [
            "['andi', 'kerap', 'melakukan', 'transaksi', 'rutin', 'secara', 'online']\n"
          ]
        }
      ]
    },
    {
      "cell_type": "code",
      "metadata": {
        "colab": {
          "base_uri": "https://localhost:8080/"
        },
        "id": "vfBx2e4IrkTG",
        "outputId": "6651d83b-569c-4139-cdc2-d7afeb1e8891"
      },
      "source": [
        "# mendapatkan informasi frekuensi\n",
        "from nltk.tokenize import word_tokenize\n",
        "from nltk.probability import FreqDist\n",
        "\n",
        "kalimat = \"Andi kerap melakukan transaksi rutin secara online. Menurut Andi belanja online lebih praktis & murah.\"\n",
        "kalimat = kalimat.translate(str.maketrans('', '', string.punctuation)).lower()\n",
        "\n",
        "tokens = word_tokenize(kalimat)\n",
        "kemunculan = FreqDist(tokens)\n",
        "print(kemunculan.most_common())"
      ],
      "execution_count": 15,
      "outputs": [
        {
          "output_type": "stream",
          "name": "stdout",
          "text": [
            "[('andi', 2), ('online', 2), ('kerap', 1), ('melakukan', 1), ('transaksi', 1), ('rutin', 1), ('secara', 1), ('menurut', 1), ('belanja', 1), ('lebih', 1), ('praktis', 1), ('murah', 1)]\n"
          ]
        }
      ]
    },
    {
      "cell_type": "markdown",
      "metadata": {
        "id": "bvEjMs0Isb6y"
      },
      "source": [
        "# **Visualisasi dengan Matplotlib**"
      ]
    },
    {
      "cell_type": "code",
      "metadata": {
        "colab": {
          "base_uri": "https://localhost:8080/",
          "height": 324
        },
        "id": "FB5YaxSVsgFN",
        "outputId": "eeef3819-f4f8-4536-d5c3-1beb86ecbe95"
      },
      "source": [
        "import matplotlib.pyplot as plt\n",
        "kemunculan.plot(30, cumulative=False)\n",
        "plt.show()"
      ],
      "execution_count": 16,
      "outputs": [
        {
          "output_type": "display_data",
          "data": {
            "image/png": "[encoded data removed]",
            "text/plain": [
              "<Figure size 432x288 with 1 Axes>"
            ]
          },
          "metadata": {
            "needs_background": "light"
          }
        }
      ]
    },
    {
      "cell_type": "markdown",
      "metadata": {
        "id": "rgNd8YwLsrnD"
      },
      "source": [
        "# **Tokenizing kalimat**"
      ]
    },
    {
      "cell_type": "code",
      "metadata": {
        "colab": {
          "base_uri": "https://localhost:8080/"
        },
        "id": "wLZkwUO2st3N",
        "outputId": "7f80abae-5299-4815-a21a-39cb9cb85af0"
      },
      "source": [
        "# impor sent_tokenize dari modul nltk\n",
        "from nltk.tokenize import sent_tokenize\n",
        "kalimat = \"Andi kerap melakukan transaksi rutin secara online. Menurut Andi belanja online lebih praktis & murah.\"\n",
        "\n",
        "tokens = sent_tokenize(kalimat)\n",
        "print(tokens)"
      ],
      "execution_count": 17,
      "outputs": [
        {
          "output_type": "stream",
          "name": "stdout",
          "text": [
            "['Andi kerap melakukan transaksi rutin secara online.', 'Menurut Andi belanja online lebih praktis & murah.']\n"
          ]
        }
      ]
    },
    {
      "cell_type": "code",
      "metadata": {
        "colab": {
          "base_uri": "https://localhost:8080/"
        },
        "id": "-oChxPANufuN",
        "outputId": "d8debece-85f6-4ffb-f9bd-4ca8129f96ec"
      },
      "source": [
        "# download stopwords\n",
        "import nltk\n",
        "nltk.download(\"stopwords\")"
      ],
      "execution_count": 19,
      "outputs": [
        {
          "output_type": "stream",
          "name": "stdout",
          "text": [
            "[nltk_data] Downloading package stopwords to /root/nltk_data...\n",
            "[nltk_data]   Unzipping corpora/stopwords.zip.\n"
          ]
        },
        {
          "output_type": "execute_result",
          "data": {
            "text/plain": [
              "True"
            ]
          },
          "metadata": {},
          "execution_count": 19
        }
      ]
    },
    {
      "cell_type": "markdown",
      "metadata": {
        "id": "VFsHHLT5tEzu"
      },
      "source": [
        "# **Filtering (Stopword Removal)**"
      ]
    },
    {
      "cell_type": "markdown",
      "metadata": {
        "id": "FXepFRROtMbF"
      },
      "source": [
        "# A. Filtering dengan NLTK"
      ]
    },
    {
      "cell_type": "code",
      "metadata": {
        "colab": {
          "base_uri": "https://localhost:8080/"
        },
        "id": "3e2cqG-vtIW-",
        "outputId": "51ae1ca0-e41f-4679-b575-8fc00c14f01b"
      },
      "source": [
        "from nltk.tokenize import sent_tokenize, word_tokenize\n",
        "from nltk.corpus import stopwords\n",
        "\n",
        "kalimat = \"Andi kerap melakukan transaksi rutin secara online. Menurut Andi belanja online lebih praktis & murah.\"\n",
        "kalimat = kalimat.translate(str.maketrans('', '', string.punctuation)).lower()\n",
        "\n",
        "tokens = word_tokenize(kalimat)\n",
        "listStopword = set(stopwords.words('indonesian'))\n",
        "\n",
        "removed = []\n",
        "for t in tokens:\n",
        "  if t not in listStopword:\n",
        "    removed.append(t)\n",
        "\n",
        "print(removed)"
      ],
      "execution_count": 20,
      "outputs": [
        {
          "output_type": "stream",
          "name": "stdout",
          "text": [
            "['andi', 'kerap', 'transaksi', 'rutin', 'online', 'andi', 'belanja', 'online', 'praktis', 'murah']\n"
          ]
        }
      ]
    },
    {
      "cell_type": "markdown",
      "metadata": {
        "id": "r66N8ZtmuuHk"
      },
      "source": [
        "# **B. Filtering dengan sastrawi**"
      ]
    },
    {
      "cell_type": "code",
      "metadata": {
        "colab": {
          "base_uri": "https://localhost:8080/"
        },
        "id": "_2GaHz7uux9D",
        "outputId": "73fb9b2c-c12f-4135-b4e9-95c55cc58b78"
      },
      "source": [
        "from Sastrawi.StopWordRemover.StopWordRemoverFactory import StopWordRemoverFactory\n",
        "factory = StopWordRemoverFactory()\n",
        "stopwords = factory.get_stop_words()\n",
        "\n",
        "print(stopwords)"
      ],
      "execution_count": 21,
      "outputs": [
        {
          "output_type": "stream",
          "name": "stdout",
          "text": [
            "['yang', 'untuk', 'pada', 'ke', 'para', 'namun', 'menurut', 'antara', 'dia', 'dua', 'ia', 'seperti', 'jika', 'jika', 'sehingga', 'kembali', 'dan', 'tidak', 'ini', 'karena', 'kepada', 'oleh', 'saat', 'harus', 'sementara', 'setelah', 'belum', 'kami', 'sekitar', 'bagi', 'serta', 'di', 'dari', 'telah', 'sebagai', 'masih', 'hal', 'ketika', 'adalah', 'itu', 'dalam', 'bisa', 'bahwa', 'atau', 'hanya', 'kita', 'dengan', 'akan', 'juga', 'ada', 'mereka', 'sudah', 'saya', 'terhadap', 'secara', 'agar', 'lain', 'anda', 'begitu', 'mengapa', 'kenapa', 'yaitu', 'yakni', 'daripada', 'itulah', 'lagi', 'maka', 'tentang', 'demi', 'dimana', 'kemana', 'pula', 'sambil', 'sebelum', 'sesudah', 'supaya', 'guna', 'kah', 'pun', 'sampai', 'sedangkan', 'selagi', 'sementara', 'tetapi', 'apakah', 'kecuali', 'sebab', 'selain', 'seolah', 'seraya', 'seterusnya', 'tanpa', 'agak', 'boleh', 'dapat', 'dsb', 'dst', 'dll', 'dahulu', 'dulunya', 'anu', 'demikian', 'tapi', 'ingin', 'juga', 'nggak', 'mari', 'nanti', 'melainkan', 'oh', 'ok', 'seharusnya', 'sebetulnya', 'setiap', 'setidaknya', 'sesuatu', 'pasti', 'saja', 'toh', 'ya', 'walau', 'tolong', 'tentu', 'amat', 'apalagi', 'bagaimanapun']\n"
          ]
        }
      ]
    },
    {
      "cell_type": "code",
      "metadata": {
        "colab": {
          "base_uri": "https://localhost:8080/"
        },
        "id": "nHgbZgZwvN8e",
        "outputId": "866e991b-7381-4897-a6e0-babe8054d22a"
      },
      "source": [
        "# proses filtering sastrawi\n",
        "from Sastrawi.StopWordRemover.StopWordRemoverFactory import StopWordRemoverFactory\n",
        "from nltk.tokenize import word_tokenize\n",
        "\n",
        "factory = StopWordRemoverFactory()\n",
        "stopwords = factory.create_stop_word_remover()\n",
        "kalimat = \"Andi kerap melakukan transaksi rutin secara online. Menurut Andi belanja online lebih praktis & murah.\"\n",
        "kalimat = kalimat.translate(str.maketrans('', '', string.punctuation)).lower()\n",
        "\n",
        "stop = stopwords.remove(kalimat)\n",
        "tokens = word_tokenize(stop)\n",
        "print(tokens)"
      ],
      "execution_count": 23,
      "outputs": [
        {
          "output_type": "stream",
          "name": "stdout",
          "text": [
            "['andi', 'kerap', 'melakukan', 'transaksi', 'rutin', 'online', 'andi', 'belanja', 'online', 'lebih', 'praktis', 'murah']\n"
          ]
        }
      ]
    },
    {
      "cell_type": "code",
      "metadata": {
        "colab": {
          "base_uri": "https://localhost:8080/"
        },
        "id": "mop5B6lawBRp",
        "outputId": "52b246c5-fdc4-4bee-abe4-e6a36039ccdd"
      },
      "source": [
        "# library sastrawi\n",
        "from Sastrawi.StopWordRemover.StopWordRemoverFactory import StopWordRemoverFactory, StopWordRemover, ArrayDictionary\n",
        "from nltk.tokenize import word_tokenize\n",
        "\n",
        "# Ambil Stopword bawaan\n",
        "stop_factory = StopWordRemoverFactory().get_stop_words()\n",
        "more_stopword = ['online', 'lebih']\n",
        "\n",
        "kalimat = \"Andi kerap melakukan transaksi rutin secara online. Menurut Andi belanja online lebih praktis & murah.\"\n",
        "\n",
        "# Merge stopword\n",
        "data = stop_factory + more_stopword\n",
        "\n",
        "dictionary = ArrayDictionary(data)\n",
        "str = StopWordRemover(dictionary)\n",
        "tokens = word_tokenize(str.remove(kalimat))\n",
        "print(tokens)"
      ],
      "execution_count": 24,
      "outputs": [
        {
          "output_type": "stream",
          "name": "stdout",
          "text": [
            "['Andi', 'kerap', 'melakukan', 'transaksi', 'rutin', 'online', '.', 'Menurut', 'Andi', 'belanja', 'lebih', 'praktis', '&', 'murah', '.']\n"
          ]
        }
      ]
    },
    {
      "cell_type": "markdown",
      "metadata": {
        "id": "FcAYDsq3w6_O"
      },
      "source": [
        "# **Stemming**"
      ]
    },
    {
      "cell_type": "markdown",
      "metadata": {
        "id": "27m-bg4_w-B3"
      },
      "source": [
        "# A. Stemming dengan NLTK (inggris)"
      ]
    },
    {
      "cell_type": "code",
      "metadata": {
        "colab": {
          "base_uri": "https://localhost:8080/"
        },
        "id": "t-xLABZnxBLA",
        "outputId": "0d8cf3f6-b7b6-48de-acb8-62ac39dbdd28"
      },
      "source": [
        "from nltk.stem import PorterStemmer\n",
        "\n",
        "ps = PorterStemmer()\n",
        "\n",
        "kata = [\"program\", \"programs\", \"programmer\", \"programming\", \"programmers\"]\n",
        "for k in kata:\n",
        "  print(k, \" : \", ps.stem(k))"
      ],
      "execution_count": 25,
      "outputs": [
        {
          "output_type": "stream",
          "name": "stdout",
          "text": [
            "program  :  program\n",
            "programs  :  program\n",
            "programmer  :  programm\n",
            "programming  :  program\n",
            "programmers  :  programm\n"
          ]
        }
      ]
    },
    {
      "cell_type": "markdown",
      "metadata": {
        "id": "PT_IWqkYxY8d"
      },
      "source": [
        "# B. stemming bahasa indonesia"
      ]
    },
    {
      "cell_type": "code",
      "metadata": {
        "colab": {
          "base_uri": "https://localhost:8080/"
        },
        "id": "XFwHqemRxeSu",
        "outputId": "3dee2006-cf0d-4b37-85a0-1b987a88175d"
      },
      "source": [
        "from Sastrawi.Stemmer.StemmerFactory import StemmerFactory\n",
        "factory = StemmerFactory()\n",
        "stemmer = factory.create_stemmer()\n",
        "\n",
        "kalimat = \"Andi kerap melakukan transaksi rutin online. menurut Andi belanja online lebih praktis & murah.\"\n",
        "hasil = stemmer.stem(kalimat)\n",
        "print(hasil)"
      ],
      "execution_count": 26,
      "outputs": [
        {
          "output_type": "stream",
          "name": "stdout",
          "text": [
            "andi kerap laku transaksi rutin online turut andi belanja online lebih praktis murah\n"
          ]
        }
      ]
    }
  ]
}